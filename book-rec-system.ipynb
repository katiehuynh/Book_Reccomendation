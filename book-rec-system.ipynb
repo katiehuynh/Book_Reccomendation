{
 "metadata": {
  "language_info": {
   "codemirror_mode": {
    "name": "ipython",
    "version": 3
   },
   "file_extension": ".py",
   "mimetype": "text/x-python",
   "name": "python",
   "nbconvert_exporter": "python",
   "pygments_lexer": "ipython3",
   "version": "3.7.4-final"
  },
  "orig_nbformat": 2,
  "kernelspec": {
   "name": "python3",
   "display_name": "Python 3.7.4 64-bit ('base': conda)",
   "metadata": {
    "interpreter": {
     "hash": "dca0ade3e726a953b501b15e8e990130d2b7799f14cfd9f4271676035ebe5511"
    }
   }
  }
 },
 "nbformat": 4,
 "nbformat_minor": 2,
 "cells": [
  {
   "cell_type": "code",
   "execution_count": 1,
   "metadata": {},
   "outputs": [],
   "source": [
    "# This is a basic recommendation system. The user will give a single book and the system returns books the user is likely to enjoy based on the similiarity (to the content) of the book that the user provided.\n",
    "\n",
    "# Method: Content filtering"
   ]
  },
  {
   "cell_type": "code",
   "execution_count": 6,
   "metadata": {},
   "outputs": [],
   "source": [
    "import pandas as pd\n",
    "import numpy as np\n",
    "\n",
    "# NLP stuff.\n",
    "import string\n",
    "from rake_nltk import Rake\n",
    "from nltk.tokenize import wordpunct_tokenize\n",
    "from nltk.corpus import stopwords\n",
    "\n",
    "from sklearn.feature_extraction.text import CountVectorizer\n",
    "from sklearn.metrics.pairwise import cosine_similarity"
   ]
  },
  {
   "cell_type": "code",
   "execution_count": 7,
   "metadata": {},
   "outputs": [],
   "source": [
    "book_data = pd.read_csv('pages-1-100.csv', sep=',')"
   ]
  },
  {
   "cell_type": "code",
   "execution_count": 8,
   "metadata": {},
   "outputs": [],
   "source": [
    "# Remove duplicates\n",
    "# Remove duplicates by common title\n",
    "book_data.drop_duplicates(subset='title', inplace=True)\n",
    "\n",
    "# Reset the index\n",
    "# Rely on index later. \n",
    "# If we remove values here, the index will no longer be correct\n",
    "book_Data = book_data.reset_index()\n"
   ]
  },
  {
   "cell_type": "code",
   "execution_count": null,
   "metadata": {},
   "outputs": [],
   "source": [
    "# Weighted rating and top books\n",
    "# need an algorithm to weight the rating values\n",
    "# IMDB's FAW has a weighted rating\n",
    "\n",
    "# R = average rating (mean)\n",
    "# v = number of votes/ratings\n",
    "# m = minimum number of votes to be listed\n",
    "# C = mean vote across the whole report"
   ]
  },
  {
   "cell_type": "code",
   "execution_count": 17,
   "metadata": {},
   "outputs": [
    {
     "output_type": "execute_result",
     "data": {
      "text/plain": [
       "4.0527289955780095"
      ]
     },
     "metadata": {},
     "execution_count": 17
    }
   ],
   "source": [
    "C = book_data['avg_rating'].mean()\n",
    "C"
   ]
  },
  {
   "cell_type": "code",
   "execution_count": 10,
   "metadata": {},
   "outputs": [
    {
     "output_type": "execute_result",
     "data": {
      "text/plain": [
       "2421.9000000000005"
      ]
     },
     "metadata": {},
     "execution_count": 10
    }
   ],
   "source": [
    "# Starting with 10th percentile\n",
    "m = book_data['num_ratings'].quantile(0.1)\n",
    "m"
   ]
  },
  {
   "cell_type": "code",
   "execution_count": 12,
   "metadata": {},
   "outputs": [],
   "source": [
    "def weighted_rating(book, m, C):\n",
    "    # Average rating for the book\n",
    "    R = book['avg_rating']\n",
    "    # Total number of votes for the book\n",
    "    v = book['num_ratings']\n",
    "    # IMDB formula\n",
    "    return (v / (v+m) * R) + (m / (m+v) * C)\n",
    "\n",
    "# Calculate the weighted rating for books that are within our threshold\n",
    "book_data.loc[book_data.num_ratings > m, 'weighted_rating'] = book_data.loc[book_data.num_ratings > m].apply(lambda x: weighted_rating(x, m, C), axis = 1)\n",
    "\n",
    "# Fill the NaN values (ie. books lower than our threshold) with a zero score\n",
    "book_data['weighted_rating'].fillna(0, inplace=True)"
   ]
  },
  {
   "cell_type": "code",
   "execution_count": 13,
   "metadata": {},
   "outputs": [
    {
     "output_type": "execute_result",
     "data": {
      "text/plain": [
       "                                                  title  \\\n",
       "1539                     The Complete Calvin and Hobbes   \n",
       "988                                   Words of Radiance   \n",
       "6538  Harry Potter Boxed Set, Books 1-5 (Harry Potte...   \n",
       "1481                        Harry Potter Series Box Set   \n",
       "5455                               It's a Magical World   \n",
       "\n",
       "                      original_title                  series language  \\\n",
       "1539  The Complete Calvin and Hobbes       Calvin and Hobbes  English   \n",
       "988                Words of Radiance  The Stormlight Archive  English   \n",
       "6538                             NaN                     NaN  English   \n",
       "1481                             NaN            Harry Potter  English   \n",
       "5455            It's a Magical World       Calvin and Hobbes  English   \n",
       "\n",
       "                                       authors  avg_rating  num_ratings  \\\n",
       "1539                            Bill Watterson        4.82        33322   \n",
       "988                          Brandon Sanderson        4.76       172432   \n",
       "6538  J.K. Rowling,Mary GrandPré (Illustrator)        4.78        39132   \n",
       "1481                              J.K. Rowling        4.74       234260   \n",
       "5455                            Bill Watterson        4.76        25119   \n",
       "\n",
       "      num_reviews                                             genres  \\\n",
       "1539          961  Sequential Art,Comics,Humor,Sequential Art,Gra...   \n",
       "988         10541  Fantasy,Fiction,Fantasy,Epic Fantasy,Fantasy,H...   \n",
       "6538          162          Fantasy,Young Adult,Fiction,Fantasy,Magic   \n",
       "1481         7065                        Fantasy,Young Adult,Fiction   \n",
       "5455          334  Sequential Art,Comics,Humor,Fiction,Sequential...   \n",
       "\n",
       "                                            description  \\\n",
       "1539  [   Box Set | Book One | Book Two | Book Three...   \n",
       "988   From #1 New York Times bestselling author Bran...   \n",
       "6538  Box Set containing Harry Potter and the Sorcer...   \n",
       "1481  Over 4000 pages of Harry Potter and his world,...   \n",
       "5455  When cartoonist Bill Watterson announced that ...   \n",
       "\n",
       "                                                    url  weighted_rating  \n",
       "1539  https://www.goodreads.com/book/show/24812.The_...         4.768012  \n",
       "988   https://www.goodreads.com/book/show/17332218-w...         4.750204  \n",
       "6538  https://www.goodreads.com/book/show/8.Harry_Po...         4.737612  \n",
       "1481  https://www.goodreads.com/book/show/862041.Har...         4.732967  \n",
       "5455  https://www.goodreads.com/book/show/24814.It_s...         4.697804  "
      ],
      "text/html": "<div>\n<style scoped>\n    .dataframe tbody tr th:only-of-type {\n        vertical-align: middle;\n    }\n\n    .dataframe tbody tr th {\n        vertical-align: top;\n    }\n\n    .dataframe thead th {\n        text-align: right;\n    }\n</style>\n<table border=\"1\" class=\"dataframe\">\n  <thead>\n    <tr style=\"text-align: right;\">\n      <th></th>\n      <th>title</th>\n      <th>original_title</th>\n      <th>series</th>\n      <th>language</th>\n      <th>authors</th>\n      <th>avg_rating</th>\n      <th>num_ratings</th>\n      <th>num_reviews</th>\n      <th>genres</th>\n      <th>description</th>\n      <th>url</th>\n      <th>weighted_rating</th>\n    </tr>\n  </thead>\n  <tbody>\n    <tr>\n      <td>1539</td>\n      <td>The Complete Calvin and Hobbes</td>\n      <td>The Complete Calvin and Hobbes</td>\n      <td>Calvin and Hobbes</td>\n      <td>English</td>\n      <td>Bill Watterson</td>\n      <td>4.82</td>\n      <td>33322</td>\n      <td>961</td>\n      <td>Sequential Art,Comics,Humor,Sequential Art,Gra...</td>\n      <td>[   Box Set | Book One | Book Two | Book Three...</td>\n      <td>https://www.goodreads.com/book/show/24812.The_...</td>\n      <td>4.768012</td>\n    </tr>\n    <tr>\n      <td>988</td>\n      <td>Words of Radiance</td>\n      <td>Words of Radiance</td>\n      <td>The Stormlight Archive</td>\n      <td>English</td>\n      <td>Brandon Sanderson</td>\n      <td>4.76</td>\n      <td>172432</td>\n      <td>10541</td>\n      <td>Fantasy,Fiction,Fantasy,Epic Fantasy,Fantasy,H...</td>\n      <td>From #1 New York Times bestselling author Bran...</td>\n      <td>https://www.goodreads.com/book/show/17332218-w...</td>\n      <td>4.750204</td>\n    </tr>\n    <tr>\n      <td>6538</td>\n      <td>Harry Potter Boxed Set, Books 1-5 (Harry Potte...</td>\n      <td>NaN</td>\n      <td>NaN</td>\n      <td>English</td>\n      <td>J.K. Rowling,Mary GrandPré (Illustrator)</td>\n      <td>4.78</td>\n      <td>39132</td>\n      <td>162</td>\n      <td>Fantasy,Young Adult,Fiction,Fantasy,Magic</td>\n      <td>Box Set containing Harry Potter and the Sorcer...</td>\n      <td>https://www.goodreads.com/book/show/8.Harry_Po...</td>\n      <td>4.737612</td>\n    </tr>\n    <tr>\n      <td>1481</td>\n      <td>Harry Potter Series Box Set</td>\n      <td>NaN</td>\n      <td>Harry Potter</td>\n      <td>English</td>\n      <td>J.K. Rowling</td>\n      <td>4.74</td>\n      <td>234260</td>\n      <td>7065</td>\n      <td>Fantasy,Young Adult,Fiction</td>\n      <td>Over 4000 pages of Harry Potter and his world,...</td>\n      <td>https://www.goodreads.com/book/show/862041.Har...</td>\n      <td>4.732967</td>\n    </tr>\n    <tr>\n      <td>5455</td>\n      <td>It's a Magical World</td>\n      <td>It's a Magical World</td>\n      <td>Calvin and Hobbes</td>\n      <td>English</td>\n      <td>Bill Watterson</td>\n      <td>4.76</td>\n      <td>25119</td>\n      <td>334</td>\n      <td>Sequential Art,Comics,Humor,Fiction,Sequential...</td>\n      <td>When cartoonist Bill Watterson announced that ...</td>\n      <td>https://www.goodreads.com/book/show/24814.It_s...</td>\n      <td>4.697804</td>\n    </tr>\n  </tbody>\n</table>\n</div>"
     },
     "metadata": {},
     "execution_count": 13
    }
   ],
   "source": [
    "book_data.sort_values('weighted_rating', ascending = False).head(5)"
   ]
  },
  {
   "cell_type": "code",
   "execution_count": 14,
   "metadata": {},
   "outputs": [
    {
     "output_type": "execute_result",
     "data": {
      "text/plain": [
       "                                                  title    original_title  \\\n",
       "6540                               Awakening Inner Guru               NaN   \n",
       "6534  30 Pieces of Gold: Self Growth - How to use In...               NaN   \n",
       "6520                                           The Pace          The Pace   \n",
       "6511                                   A Midnight Clear  A Midnight Clear   \n",
       "4890                                  Death of the Body               NaN   \n",
       "\n",
       "              series language                               authors  \\\n",
       "6540             NaN  English                   Banani Ray,Amit Ray   \n",
       "6534             NaN  English  Ron Millicent,Millie Parker (Editor)   \n",
       "6520        The Pace  English                        Shelena Shorts   \n",
       "6511             NaN  English                       William Wharton   \n",
       "4890  Crossing Death  English                     Rick Chiantaretto   \n",
       "\n",
       "      avg_rating  num_ratings  num_reviews  \\\n",
       "6540        4.78          104           24   \n",
       "6534        4.31          128            1   \n",
       "6520        3.70         1409          258   \n",
       "6511        4.18         1391           66   \n",
       "4890        3.82          217           74   \n",
       "\n",
       "                                                 genres  \\\n",
       "6540               Spirituality,Inspirational,Self Help   \n",
       "6534  Novels,Inspirational,Contemporary,Adult,Self H...   \n",
       "6520  Young Adult,Fantasy,Romance,Fantasy,Paranormal...   \n",
       "6511  Fiction,Historical,Historical Fiction,War,War,...   \n",
       "4890  Fantasy,Fantasy,Paranormal,Fantasy,Urban Fanta...   \n",
       "\n",
       "                                            description  \\\n",
       "6540  Awakening Inner Guru is a clear and straightfo...   \n",
       "6534  Inspirational Quotes – Hah - Do They Really Wo...   \n",
       "6520  Weston Wilson is not immortal and he is of thi...   \n",
       "6511  Set in the Ardennes Forest on Christmas Eve 19...   \n",
       "4890  I grew up in a world of magic. By the time I w...   \n",
       "\n",
       "                                                    url  weighted_rating  \n",
       "6540  https://www.goodreads.com/book/show/8596181-aw...              0.0  \n",
       "6534  https://www.goodreads.com/book/show/27467291-3...              0.0  \n",
       "6520  https://www.goodreads.com/book/show/6599113-th...              0.0  \n",
       "6511  https://www.goodreads.com/book/show/720234.A_M...              0.0  \n",
       "4890  https://www.goodreads.com/book/show/18624197-d...              0.0  "
      ],
      "text/html": "<div>\n<style scoped>\n    .dataframe tbody tr th:only-of-type {\n        vertical-align: middle;\n    }\n\n    .dataframe tbody tr th {\n        vertical-align: top;\n    }\n\n    .dataframe thead th {\n        text-align: right;\n    }\n</style>\n<table border=\"1\" class=\"dataframe\">\n  <thead>\n    <tr style=\"text-align: right;\">\n      <th></th>\n      <th>title</th>\n      <th>original_title</th>\n      <th>series</th>\n      <th>language</th>\n      <th>authors</th>\n      <th>avg_rating</th>\n      <th>num_ratings</th>\n      <th>num_reviews</th>\n      <th>genres</th>\n      <th>description</th>\n      <th>url</th>\n      <th>weighted_rating</th>\n    </tr>\n  </thead>\n  <tbody>\n    <tr>\n      <td>6540</td>\n      <td>Awakening Inner Guru</td>\n      <td>NaN</td>\n      <td>NaN</td>\n      <td>English</td>\n      <td>Banani Ray,Amit Ray</td>\n      <td>4.78</td>\n      <td>104</td>\n      <td>24</td>\n      <td>Spirituality,Inspirational,Self Help</td>\n      <td>Awakening Inner Guru is a clear and straightfo...</td>\n      <td>https://www.goodreads.com/book/show/8596181-aw...</td>\n      <td>0.0</td>\n    </tr>\n    <tr>\n      <td>6534</td>\n      <td>30 Pieces of Gold: Self Growth - How to use In...</td>\n      <td>NaN</td>\n      <td>NaN</td>\n      <td>English</td>\n      <td>Ron Millicent,Millie Parker (Editor)</td>\n      <td>4.31</td>\n      <td>128</td>\n      <td>1</td>\n      <td>Novels,Inspirational,Contemporary,Adult,Self H...</td>\n      <td>Inspirational Quotes – Hah - Do They Really Wo...</td>\n      <td>https://www.goodreads.com/book/show/27467291-3...</td>\n      <td>0.0</td>\n    </tr>\n    <tr>\n      <td>6520</td>\n      <td>The Pace</td>\n      <td>The Pace</td>\n      <td>The Pace</td>\n      <td>English</td>\n      <td>Shelena Shorts</td>\n      <td>3.70</td>\n      <td>1409</td>\n      <td>258</td>\n      <td>Young Adult,Fantasy,Romance,Fantasy,Paranormal...</td>\n      <td>Weston Wilson is not immortal and he is of thi...</td>\n      <td>https://www.goodreads.com/book/show/6599113-th...</td>\n      <td>0.0</td>\n    </tr>\n    <tr>\n      <td>6511</td>\n      <td>A Midnight Clear</td>\n      <td>A Midnight Clear</td>\n      <td>NaN</td>\n      <td>English</td>\n      <td>William Wharton</td>\n      <td>4.18</td>\n      <td>1391</td>\n      <td>66</td>\n      <td>Fiction,Historical,Historical Fiction,War,War,...</td>\n      <td>Set in the Ardennes Forest on Christmas Eve 19...</td>\n      <td>https://www.goodreads.com/book/show/720234.A_M...</td>\n      <td>0.0</td>\n    </tr>\n    <tr>\n      <td>4890</td>\n      <td>Death of the Body</td>\n      <td>NaN</td>\n      <td>Crossing Death</td>\n      <td>English</td>\n      <td>Rick Chiantaretto</td>\n      <td>3.82</td>\n      <td>217</td>\n      <td>74</td>\n      <td>Fantasy,Fantasy,Paranormal,Fantasy,Urban Fanta...</td>\n      <td>I grew up in a world of magic. By the time I w...</td>\n      <td>https://www.goodreads.com/book/show/18624197-d...</td>\n      <td>0.0</td>\n    </tr>\n  </tbody>\n</table>\n</div>"
     },
     "metadata": {},
     "execution_count": 14
    }
   ],
   "source": [
    "book_data.sort_values('weighted_rating', ascending = False).tail(5)"
   ]
  },
  {
   "cell_type": "code",
   "execution_count": 20,
   "metadata": {},
   "outputs": [
    {
     "output_type": "error",
     "ename": "NameError",
     "evalue": "name 'C' is not defined",
     "traceback": [
      "\u001b[0;31m---------------------------------------------------------------------------\u001b[0m",
      "\u001b[0;31mNameError\u001b[0m                                 Traceback (most recent call last)",
      "\u001b[0;32m<ipython-input-20-fc1ce3f257d9>\u001b[0m in \u001b[0;36m<module>\u001b[0;34m\u001b[0m\n\u001b[1;32m      1\u001b[0m \u001b[0;31m# A little cleanup\u001b[0m\u001b[0;34m\u001b[0m\u001b[0;34m\u001b[0m\u001b[0;34m\u001b[0m\u001b[0m\n\u001b[0;32m----> 2\u001b[0;31m \u001b[0;32mdel\u001b[0m \u001b[0mC\u001b[0m\u001b[0;34m\u001b[0m\u001b[0;34m\u001b[0m\u001b[0m\n\u001b[0m\u001b[1;32m      3\u001b[0m \u001b[0;32mdel\u001b[0m \u001b[0mm\u001b[0m\u001b[0;34m\u001b[0m\u001b[0;34m\u001b[0m\u001b[0m\n",
      "\u001b[0;31mNameError\u001b[0m: name 'C' is not defined"
     ]
    }
   ],
   "source": [
    "# A little cleanup\n",
    "del C\n",
    "del m"
   ]
  },
  {
   "cell_type": "code",
   "execution_count": 21,
   "metadata": {},
   "outputs": [],
   "source": [
    "# Content -Based Reccommender System\n",
    "# Crete an amalgam of features per book that will be used to calculate the similarity story between books\n",
    "# Values: title, series, language, author(s), genres, keywords from book's descriptions\n",
    "\n",
    "# Add weight by:\n",
    "#   - mentioning the words multiple times in the vector that we use to calculate similarity\n",
    "\n",
    "# Problems:\n",
    "#   - genres and languages can overlap (English vs. English) \n",
    "#   - Processing is a little trivial without much testing yet\n",
    "#   - all authors are included blindly; could be filtered based on role"
   ]
  },
  {
   "cell_type": "code",
   "execution_count": null,
   "metadata": {},
   "outputs": [],
   "source": []
  }
 ]
}